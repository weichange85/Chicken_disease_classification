{
 "cells": [
  {
   "cell_type": "code",
   "execution_count": 1,
   "metadata": {},
   "outputs": [
    {
     "data": {
      "text/plain": [
       "'c:\\\\Projects\\\\Chicken_disease_classification'"
      ]
     },
     "execution_count": 1,
     "metadata": {},
     "output_type": "execute_result"
    }
   ],
   "source": [
    "import os\n",
    "os.chdir(\"../\")\n",
    "%pwd\n"
   ]
  },
  {
   "cell_type": "code",
   "execution_count": null,
   "metadata": {},
   "outputs": [],
   "source": [
    "from pathlib import Path\n",
    "from ensure import ensure_annotations\n",
    "\n",
    "@ensure_annotations\n",
    "def create_directories(path_to_directories: list, verbose=True):\n",
    "    \"\"\"create list of directories\n",
    "\n",
    "    Args:\n",
    "        path_to_directories (list): list of path of directories\n",
    "        ignore_log (bool, optional): ignore if multiple dirs is to be created. Defaults to False.\n",
    "    \"\"\"\n",
    "    for path in path_to_directories:\n",
    "        os.makedirs(path, exist_ok=True)\n",
    "        if verbose:\n",
    "            logger.info(f\"created directory at: {path}\")\n",
    "\n",
    "\n",
    "\n",
    "model_ckpt_dir = os.path.dirname(\"artifacts/prepare_call_backs/checkpoint_dir/model.h5\")\n",
    "create_directories([Path(model_ckpt_dir)])"
   ]
  },
  {
   "cell_type": "code",
   "execution_count": 5,
   "metadata": {},
   "outputs": [],
   "source": [
    "\n",
    "# def create_directories(directory_paths: list, verbose=True):\n",
    "#     \"\"\"Create list of directories\"\"\"\n",
    "#     for path in directory_paths:\n",
    "#         # Convert Path object to string and create the directory\n",
    "#         os.makedirs(str(path), exist_ok=True)\n",
    "#         if verbose:\n",
    "#             print(f\"Created directory: {path}\")\n",
    "\n",
    "# Specify the model checkpoint directory\n",
    "model_ckpt_dir = os.path.dirname(\"artifacts/prepare_call_backs/checkpoint_dir/model.h5\")\n",
    "create_directories([Path(model_ckpt_dir)])"
   ]
  }
 ],
 "metadata": {
  "kernelspec": {
   "display_name": "CnC",
   "language": "python",
   "name": "python3"
  },
  "language_info": {
   "codemirror_mode": {
    "name": "ipython",
    "version": 3
   },
   "file_extension": ".py",
   "mimetype": "text/x-python",
   "name": "python",
   "nbconvert_exporter": "python",
   "pygments_lexer": "ipython3",
   "version": "3.8.20"
  }
 },
 "nbformat": 4,
 "nbformat_minor": 2
}
