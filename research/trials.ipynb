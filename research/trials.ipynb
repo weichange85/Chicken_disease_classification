{
 "cells": [
  {
   "cell_type": "code",
   "execution_count": 2,
   "metadata": {},
   "outputs": [
    {
     "data": {
      "text/plain": [
       "'c:\\\\Projects\\\\Chicken_disease_classification'"
      ]
     },
     "execution_count": 2,
     "metadata": {},
     "output_type": "execute_result"
    }
   ],
   "source": [
    "import os\n",
    "os.chdir(\"../\")\n",
    "%pwd\n"
   ]
  },
  {
   "cell_type": "code",
   "execution_count": 4,
   "metadata": {},
   "outputs": [],
   "source": [
    "from pathlib import Path\n",
    "\n",
    "def create_directories(directory_paths:list, verbase=True):\n",
    "    \"\"\"Create list of directories\"\"\"\n",
    "\n",
    "    for path in directory_paths:\n",
    "        os.makedirs(\"path\", exist_ok=True)\n",
    "\n",
    "\n",
    "\n",
    "model_ckpt_dir = os.path.dirname(\"artifacts/prepare_call_backs/checkpoint_dir/model.h5\")\n",
    "create_directories([Path(model_ckpt_dir)])"
   ]
  },
  {
   "cell_type": "code",
   "execution_count": 5,
   "metadata": {},
   "outputs": [
    {
     "name": "stdout",
     "output_type": "stream",
     "text": [
      "Created directory: artifacts\\prepare_call_backs\\checkpoint_dir\n"
     ]
    }
   ],
   "source": [
    "\n",
    "def create_directories(directory_paths: list, verbose=True):\n",
    "    \"\"\"Create list of directories\"\"\"\n",
    "    for path in directory_paths:\n",
    "        # Convert Path object to string and create the directory\n",
    "        os.makedirs(str(path), exist_ok=True)\n",
    "        if verbose:\n",
    "            print(f\"Created directory: {path}\")\n",
    "\n",
    "# Specify the model checkpoint directory\n",
    "model_ckpt_dir = os.path.dirname(\"artifacts/prepare_call_backs/checkpoint_dir/model.h5\")\n",
    "create_directories([Path(model_ckpt_dir)])"
   ]
  }
 ],
 "metadata": {
  "kernelspec": {
   "display_name": "CnC",
   "language": "python",
   "name": "python3"
  },
  "language_info": {
   "codemirror_mode": {
    "name": "ipython",
    "version": 3
   },
   "file_extension": ".py",
   "mimetype": "text/x-python",
   "name": "python",
   "nbconvert_exporter": "python",
   "pygments_lexer": "ipython3",
   "version": "3.8.20"
  }
 },
 "nbformat": 4,
 "nbformat_minor": 2
}
